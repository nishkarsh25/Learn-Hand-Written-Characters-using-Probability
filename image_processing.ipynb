{
  "nbformat": 4,
  "nbformat_minor": 0,
  "metadata": {
    "colab": {
      "provenance": [],
      "authorship_tag": "ABX9TyNcvSQ8MhB6oGEtsOnjaUAu",
      "include_colab_link": true
    },
    "kernelspec": {
      "name": "python3",
      "display_name": "Python 3"
    },
    "language_info": {
      "name": "python"
    }
  },
  "cells": [
    {
      "cell_type": "markdown",
      "metadata": {
        "id": "view-in-github",
        "colab_type": "text"
      },
      "source": [
        "<a href=\"https://colab.research.google.com/github/nishkarsh25/Learn-Hand-Written-Characters-using-Probability/blob/main/image_processing.ipynb\" target=\"_parent\"><img src=\"https://colab.research.google.com/assets/colab-badge.svg\" alt=\"Open In Colab\"/></a>"
      ]
    },
    {
      "cell_type": "code",
      "execution_count": null,
      "metadata": {
        "colab": {
          "base_uri": "https://localhost:8080/"
        },
        "id": "4XY8O_RT-lcL",
        "outputId": "3f31d11d-b3de-4b82-b703-fd43283799db"
      },
      "outputs": [
        {
          "output_type": "stream",
          "name": "stdout",
          "text": [
            "Drive already mounted at /content/drive; to attempt to forcibly remount, call drive.mount(\"/content/drive\", force_remount=True).\n"
          ]
        }
      ],
      "source": [
        "from google.colab import drive\n",
        "drive.mount('/content/drive')"
      ]
    },
    {
      "cell_type": "code",
      "source": [
        "folder_zero = \"/content/drive/MyDrive/Corpus_Learn_Handwritten_Characters/Zero\"\n",
        "\n",
        "from PIL import Image\n",
        "import numpy as np\n",
        "import matplotlib.pyplot as plt\n",
        "\n",
        "\n",
        "import os\n",
        "from os import listdir\n",
        "\n",
        "from array import *\n",
        "\n",
        "totalnumberofzeroes = 0\n",
        "totalnumberoftruezeroes = array('f',[0,0,0,0,0,0,0,0,0,0,0,0,0,0,0,0])\n",
        "probabilityoftrueomegaforzero = array('f',[0,0,0,0,0,0,0,0,0,0,0,0,0,0,0,0]) \n",
        "\n",
        "\n",
        "for images in os.listdir(folder_zero):\n",
        "  totalnumberofzeroes += 1\n",
        "  zeroimage = Image.open(folder_zero+\"/\"+images)\n",
        "  zeroimage = zeroimage.convert('1')\n",
        "  zeroimage = zeroimage.resize((4,4))\n",
        "  zeroimagebinary = np.array(zeroimage)\n",
        "  for i in range(4):\n",
        "    for j in range(4):\n",
        "      if zeroimagebinary[i][j] == True:\n",
        "        n = (4*i)+j\n",
        "        totalnumberoftruezeroes[n]+=1\n",
        "print(\"totalzeroes: \"+str(totalnumberofzeroes))\n",
        "for i in range(16):\n",
        "  probabilityoftrueomegaforzero[i] = totalnumberoftruezeroes[i]/totalnumberofzeroes\n",
        "  print(\"ω(\"+str(i+1)+\")\"+\"\\t\"+str(probabilityoftrueomegaforzero[i]))\n"
      ],
      "metadata": {
        "id": "bsbukmcz-0Iz",
        "colab": {
          "base_uri": "https://localhost:8080/"
        },
        "outputId": "ba4a0d47-df9a-43ae-a11e-bae67126be8e"
      },
      "execution_count": null,
      "outputs": [
        {
          "output_type": "stream",
          "name": "stdout",
          "text": [
            "totalzeroes: 76\n",
            "ω(1)\t0.8552631735801697\n",
            "ω(2)\t0.8552631735801697\n",
            "ω(3)\t0.8815789222717285\n",
            "ω(4)\t0.9078947305679321\n",
            "ω(5)\t0.8815789222717285\n",
            "ω(6)\t0.8947368264198303\n",
            "ω(7)\t0.8157894611358643\n",
            "ω(8)\t0.8947368264198303\n",
            "ω(9)\t0.9210526347160339\n",
            "ω(10)\t0.8157894611358643\n",
            "ω(11)\t0.9078947305679321\n",
            "ω(12)\t0.8421052694320679\n",
            "ω(13)\t0.7763158082962036\n",
            "ω(14)\t0.8815789222717285\n",
            "ω(15)\t0.8421052694320679\n",
            "ω(16)\t0.9078947305679321\n"
          ]
        }
      ]
    },
    {
      "cell_type": "code",
      "source": [
        "folder_one = \"/content/drive/MyDrive/Corpus_Learn_Handwritten_Characters/One\"\n",
        "\n",
        "from PIL import Image\n",
        "import numpy as np\n",
        "import matplotlib.pyplot as plt\n",
        "\n",
        "\n",
        "import os\n",
        "from os import listdir\n",
        "\n",
        "from array import *\n",
        "\n",
        "totalnumberofones = 0\n",
        "counttrueones = array('f',[0,0,0,0,0,0,0,0,0,0,0,0,0,0,0,0])\n",
        "probabilityoftrueomegaforone = array('f',[0,0,0,0,0,0,0,0,0,0,0,0,0,0,0,0])\n",
        "\n",
        "for images in os.listdir(folder_one):\n",
        "  totalnumberofones += 1\n",
        "  oneimage = Image.open(folder_one+\"/\"+images)\n",
        "  oneimage = oneimage.convert('1')\n",
        "  oneimage = oneimage.resize((4,4))\n",
        "  binaryimageofone = np.array(oneimage)\n",
        "  for i in range(4):\n",
        "    for j in range(4):\n",
        "      if binaryimageofone[i][j] == True:\n",
        "        n = (4*i)+j\n",
        "        counttrueones[n]+=1\n",
        "print(\"total ones: \"+str(totalnumberofones))\n",
        "for i in range(16):\n",
        "  probabilityoftrueomegaforone[i] = counttrueones[i]/totalnumberofones\n",
        "  print(\"ω(\"+str(i+1)+\")\"+\"\\t\"+str(probabilityoftrueomegaforone[i]))\n",
        "\n"
      ],
      "metadata": {
        "colab": {
          "base_uri": "https://localhost:8080/"
        },
        "id": "Uw2rqEgdhcVR",
        "outputId": "ad124662-cbcf-4e90-8036-0f35f31a33e2"
      },
      "execution_count": null,
      "outputs": [
        {
          "output_type": "stream",
          "name": "stdout",
          "text": [
            "total ones: 75\n",
            "ω(1)\t0.8666666746139526\n",
            "ω(2)\t0.8533333539962769\n",
            "ω(3)\t0.8533333539962769\n",
            "ω(4)\t0.8399999737739563\n",
            "ω(5)\t0.800000011920929\n",
            "ω(6)\t0.8533333539962769\n",
            "ω(7)\t0.8533333539962769\n",
            "ω(8)\t0.800000011920929\n",
            "ω(9)\t0.8533333539962769\n",
            "ω(10)\t0.8399999737739563\n",
            "ω(11)\t0.8266666531562805\n",
            "ω(12)\t0.8666666746139526\n",
            "ω(13)\t0.800000011920929\n",
            "ω(14)\t0.8266666531562805\n",
            "ω(15)\t0.8533333539962769\n",
            "ω(16)\t0.8133333325386047\n"
          ]
        }
      ]
    },
    {
      "cell_type": "code",
      "source": [
        "totalcount=totalnumberofzeroes+totalnumberofones\n",
        "\n",
        "probabilityofzero = totalnumberofzeroes/totalcount\n",
        "probabilityofone = totalnumberofones/totalcount\n",
        "\n",
        "normalizedprobabilityoftrueomegaforzero = array('f',[0,0,0,0,0,0,0,0,0,0,0,0,0,0,0,0])\n",
        "normalizedprobabilityoftrueomegaforone = array('f',[0,0,0,0,0,0,0,0,0,0,0,0,0,0,0,0])\n",
        "\n",
        "for i in range(16):\n",
        "  normalizedprobabilityoftrueomegaforzero[i] = probabilityoftrueomegaforzero[i]*probabilityofzero\n",
        "\n",
        "for i in range(16):\n",
        "  normalizedprobabilityoftrueomegaforone[i] = probabilityoftrueomegaforone[i]*probabilityofone\n",
        "\n",
        "\n",
        "wcorrespondstoimagezero = array('f',[0,0,0,0,0,0,0,0,0,0,0,0,0,0,0,0])\n",
        "wcorrespondstoimageone = array('f',[0,0,0,0,0,0,0,0,0,0,0,0,0,0,0,0])\n",
        "\n",
        "for i in range(16):\n",
        "  if(normalizedprobabilityoftrueomegaforzero[i]<=normalizedprobabilityoftrueomegaforone[i]):\n",
        "    wcorrespondstoimageone[i]=1\n",
        "  else:\n",
        "    wcorrespondstoimagezero[i]=1\n",
        "\n",
        "\n"
      ],
      "metadata": {
        "id": "pKmRq0JihkM2"
      },
      "execution_count": null,
      "outputs": []
    },
    {
      "cell_type": "code",
      "source": [
        "inputimage = Image.open(\"/content/drive/MyDrive/zero22.png\")\n",
        "inputimage = inputimage.convert('1')\n",
        "inputimage = inputimage.resize((4,4))\n",
        "inputimage_binary = np.array(inputimage)\n",
        "\n",
        "countforimagetobezero = 0\n",
        "countforimagetobeone = 0\n",
        "\n",
        "for i in range(4):\n",
        "  for j in range(4):\n",
        "    if(inputimage_binary[i][j]==wcorrespondstoimagezero[4*i+j]):\n",
        "      countforimagetobezero+=1\n",
        "    else:\n",
        "      countforimagetobeone+=1\n",
        "\n",
        "totalcount = countforimagetobezero + countforimagetobeone\n",
        "\n",
        "probabilityofimagetobezero = countforimagetobezero/totalcount\n",
        "probabilityofimagetobeone = countforimagetobeone/totalcount\n",
        "\n",
        "\n",
        "print(\"Probability of image to be zero is: \"+str(probabilityofimagetobezero))\n",
        "print(\"Probability of image to be one is: \"+str(probabilityofimagetobeone))\n",
        "      \n",
        "\n"
      ],
      "metadata": {
        "colab": {
          "base_uri": "https://localhost:8080/"
        },
        "id": "vdcwSKDdhp4n",
        "outputId": "6fc4d97e-99ca-4ca5-d565-a3676bc8163a"
      },
      "execution_count": null,
      "outputs": [
        {
          "output_type": "stream",
          "name": "stdout",
          "text": [
            "Probability of image to be zero is: 0.625\n",
            "Probability of image to be one is: 0.375\n"
          ]
        }
      ]
    }
  ]
}